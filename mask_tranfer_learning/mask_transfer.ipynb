{
 "cells": [
  {
   "cell_type": "code",
   "execution_count": 1,
   "metadata": {},
   "outputs": [],
   "source": [
    "import torch\n",
    "import os\n",
    "import re\n",
    "import sys\n",
    "import cv2\n",
    "from config_reader import config_reader\n",
    "import util\n",
    "import numpy as np\n",
    "from torch import nn\n",
    "import matplotlib.pyplot as plt"
   ]
  },
  {
   "cell_type": "code",
   "execution_count": 2,
   "metadata": {},
   "outputs": [],
   "source": [
    "from PoseEstimator import PoseEstimation"
   ]
  },
  {
   "cell_type": "code",
   "execution_count": 3,
   "metadata": {},
   "outputs": [],
   "source": [
    "torch_device = torch.device('cuda:3')"
   ]
  },
  {
   "cell_type": "code",
   "execution_count": 84,
   "metadata": {},
   "outputs": [],
   "source": [
    "model_mask = PoseEstimation.model(pretrained=True)\n",
    "model_mask = model_mask.to(torch_device)\n",
    "model_mask.float()\n",
    "model_mask.eval();"
   ]
  },
  {
   "cell_type": "code",
   "execution_count": 85,
   "metadata": {},
   "outputs": [],
   "source": [
    "img_path = './sample_image/i.png'\n",
    "mask_path = './sample_image/m.png'"
   ]
  },
  {
   "cell_type": "code",
   "execution_count": 102,
   "metadata": {},
   "outputs": [],
   "source": [
    "for param in model_mask.parameters():\n",
    "    param.requires_grad = False\n",
    "\n",
    "model_mask.model6_1[12] = nn.Conv2d(in_channels=128, out_channels=2, kernel_size=1, stride=1, padding=0)\n",
    "\n",
    "for param in model_mask.model6_1[12].parameters():\n",
    "    param.requires_grad = True\n",
    "    \n",
    "for param in model_mask.model6_1[10].parameters():\n",
    "    param.requires_grad = True\n",
    "\n",
    "model_mask = model_mask.to(torch_device)\n",
    "model_mask.train();"
   ]
  },
  {
   "cell_type": "code",
   "execution_count": null,
   "metadata": {},
   "outputs": [],
   "source": []
  },
  {
   "cell_type": "code",
   "execution_count": 103,
   "metadata": {},
   "outputs": [
    {
     "name": "stdout",
     "output_type": "stream",
     "text": [
      "output1 torch.Size([1, 2, 60, 80])\n",
      "output2 torch.Size([1, 19, 60, 80])\n"
     ]
    }
   ],
   "source": [
    "param_, model_ = config_reader()\n",
    "\n",
    "oriImg = cv2.imread(img_path) # B,G,R order\n",
    "imageToTest = torch.FloatTensor(oriImg).permute((2,0,1))[None]\n",
    "multiplier = [x * model_['boxsize'] / oriImg.shape[0] for x in param_['scale_search']]\n",
    "\n",
    "heatmap_avg = torch.zeros((len(multiplier),19,oriImg.shape[0], oriImg.shape[1])).to(torch_device)\n",
    "paf_avg = torch.zeros((len(multiplier),38,oriImg.shape[0], oriImg.shape[1])).to(torch_device)\n",
    "\n",
    "scale = 1\n",
    "h = int(oriImg.shape[0]*scale)\n",
    "w = int(oriImg.shape[1]*scale)\n",
    "pad_h = 0 if (h%model_['stride']==0) else model_['stride'] - (h % model_['stride']) \n",
    "pad_w = 0 if (w%model_['stride']==0) else model_['stride'] - (w % model_['stride'])\n",
    "new_h = h + pad_h\n",
    "new_w = w + pad_w\n",
    "\n",
    "imageToTest = cv2.resize(oriImg, (0,0), fx=scale, fy=scale, interpolation=cv2.INTER_CUBIC)\n",
    "imageToTest_padded, pad = util.padRightDownCorner(imageToTest, model_['stride'], model_['padValue'])\n",
    "imageToTest_padded = np.transpose(np.float32(imageToTest_padded[:,:,:,np.newaxis]), (3,2,0,1))/256 - 0.5\n",
    "\n",
    "\n",
    "feed = torch.Tensor(imageToTest_padded).to(torch_device)\n",
    "\n",
    "output1, output2 = model_mask(feed)\n",
    "print ('output1', output1.size())\n",
    "print ('output2', output2.size())"
   ]
  },
  {
   "cell_type": "code",
   "execution_count": 104,
   "metadata": {},
   "outputs": [
    {
     "data": {
      "text/plain": [
       "torch.Size([480, 640])"
      ]
     },
     "execution_count": 104,
     "metadata": {},
     "output_type": "execute_result"
    }
   ],
   "source": [
    "mask = (plt.imread(mask_path)[:,:,0]>0.5).astype(np.uint8)\n",
    "y = torch.LongTensor(mask).to(torch_device)\n",
    "y.shape"
   ]
  },
  {
   "cell_type": "code",
   "execution_count": 105,
   "metadata": {},
   "outputs": [
    {
     "data": {
      "text/plain": [
       "torch.Size([1, 3, 480, 640])"
      ]
     },
     "execution_count": 105,
     "metadata": {},
     "output_type": "execute_result"
    }
   ],
   "source": [
    "feed.shape"
   ]
  },
  {
   "cell_type": "code",
   "execution_count": 106,
   "metadata": {},
   "outputs": [],
   "source": [
    "loss = nn.CrossEntropyLoss()\n",
    "loss = loss.to(torch_device)\n",
    "grad_params = filter(lambda p: p.requires_grad, model_mask.parameters())\n",
    "optimizer = torch.optim.Adam(grad_params,lr=0.01)"
   ]
  },
  {
   "cell_type": "code",
   "execution_count": 128,
   "metadata": {},
   "outputs": [
    {
     "name": "stdout",
     "output_type": "stream",
     "text": [
      " epoch 99, loss 0.013226866722106934"
     ]
    }
   ],
   "source": [
    "for epoch in range(100):\n",
    "    losses = []\n",
    "    prediction, _ = model_mask(feed)\n",
    "    prediction = nn.Upsample((oriImg.shape[0], oriImg.shape[1]), mode='bilinear', align_corners=True)(prediction)      \n",
    "\n",
    "    loss_batch = loss(prediction, y[None])\n",
    "    losses.append(loss_batch.item())\n",
    "    sys.stdout.write('\\r epoch {0:}, loss {1:}'.format(epoch, losses[-1]))\n",
    "    optimizer.zero_grad()\n",
    "    loss_batch.backward()\n",
    "    optimizer.step()"
   ]
  },
  {
   "cell_type": "code",
   "execution_count": 129,
   "metadata": {},
   "outputs": [
    {
     "data": {
      "text/plain": [
       "torch.Size([1, 2, 480, 640])"
      ]
     },
     "execution_count": 129,
     "metadata": {},
     "output_type": "execute_result"
    }
   ],
   "source": [
    "prediction.shape"
   ]
  },
  {
   "cell_type": "code",
   "execution_count": 130,
   "metadata": {},
   "outputs": [
    {
     "data": {
      "text/plain": [
       "(480, 640)"
      ]
     },
     "execution_count": 130,
     "metadata": {},
     "output_type": "execute_result"
    }
   ],
   "source": [
    "pred = nn.Softmax(dim=1)(prediction)[0,1].cpu().data.numpy()\n",
    "pred.shape"
   ]
  },
  {
   "cell_type": "code",
   "execution_count": 153,
   "metadata": {},
   "outputs": [
    {
     "data": {
      "text/plain": [
       "<matplotlib.image.AxesImage at 0x7f2d0d3f9c18>"
      ]
     },
     "execution_count": 153,
     "metadata": {},
     "output_type": "execute_result"
    },
    {
     "data": {
      "image/png": "[encoded data removed]",
      "text/plain": [
       "<matplotlib.figure.Figure at 0x7f2d0d436668>"
      ]
     },
     "metadata": {},
     "output_type": "display_data"
    }
   ],
   "source": [
    "plt.imshow(pred>0.5)"
   ]
  },
  {
   "cell_type": "code",
   "execution_count": 154,
   "metadata": {},
   "outputs": [
    {
     "data": {
      "text/plain": [
       "<matplotlib.image.AxesImage at 0x7f2d0d353550>"
      ]
     },
     "execution_count": 154,
     "metadata": {},
     "output_type": "execute_result"
    },
    {
     "data": {
      "image/png": "[encoded data removed]",
      "text/plain": [
       "<matplotlib.figure.Figure at 0x7f2d0d404a90>"
      ]
     },
     "metadata": {},
     "output_type": "display_data"
    }
   ],
   "source": [
    "plt.imshow(y)"
   ]
  },
  {
   "cell_type": "raw",
   "metadata": {},
   "source": [
    "canvas = PoseEstimation.process_output(heatmap_avg, paf_avg, test_image)"
   ]
  },
  {
   "cell_type": "code",
   "execution_count": null,
   "metadata": {},
   "outputs": [],
   "source": [
    "cv2.imwrite('result.png', canvas)   "
   ]
  },
  {
   "cell_type": "code",
   "execution_count": null,
   "metadata": {},
   "outputs": [],
   "source": [
    "plt.figure(figsize=(7,7))\n",
    "b,g,r = cv2.split(canvas)\n",
    "canvas_rgb = cv2.merge((r,g,b))\n",
    "plt.imshow(canvas_rgb)"
   ]
  },
  {
   "cell_type": "code",
   "execution_count": null,
   "metadata": {},
   "outputs": [],
   "source": []
  }
 ],
 "metadata": {
  "kernelspec": {
   "display_name": "Python [conda env:anaconda3]",
   "language": "python",
   "name": "conda-env-anaconda3-py"
  },
  "language_info": {
   "codemirror_mode": {
    "name": "ipython",
    "version": 3
   },
   "file_extension": ".py",
   "mimetype": "text/x-python",
   "name": "python",
   "nbconvert_exporter": "python",
   "pygments_lexer": "ipython3",
   "version": "3.6.4"
  }
 },
 "nbformat": 4,
 "nbformat_minor": 2
}
